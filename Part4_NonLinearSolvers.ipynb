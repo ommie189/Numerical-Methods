{
 "cells": [
  {
   "cell_type": "code",
   "execution_count": 77,
   "metadata": {},
   "outputs": [],
   "source": [
    "import numpy as np\n",
    "import matplotlib.pyplot as plt\n",
    "import copy"
   ]
  },
  {
   "cell_type": "markdown",
   "metadata": {},
   "source": [
    "# Nonlinear solvers: Newton method vs bisection method:\n",
    "<font size=\"4\">One needs the derivative of the original function for Newton method. Here it is given analytically. <br>\n",
    "It can also be estimated with central or other differencing schemes (e.g. Secant method).<br>\n",
    "For Newton method to converge, we need to be 'sufficiently' close to the root of the nonlinear equation and the function needs to be sufficiently smooth (differentiable; actually in practice often twice differentiable). Under certain conditions, the convergence is quadratic. <br>\n",
    "For bisection method we only need a continuous function and a change of sign between the endpoints of the interval. However, convergence is only linear.</font>"
   ]
  },
  {
   "cell_type": "markdown",
   "metadata": {},
   "source": [
    "<font size=\"4\">Take the function $x^3$ first. Analytic root is $0$. Our starting point for Newton method is $1$.</font>"
   ]
  },
  {
   "cell_type": "code",
   "execution_count": 78,
   "metadata": {},
   "outputs": [
    {
     "data": {
      "text/plain": [
       "[<matplotlib.lines.Line2D at 0x7fe279284a90>]"
      ]
     },
     "execution_count": 78,
     "metadata": {},
     "output_type": "execute_result"
    },
    {
     "data": {
      "image/png": "[encoded data removed]",
      "text/plain": [
       "<Figure size 432x288 with 1 Axes>"
      ]
     },
     "metadata": {
      "needs_background": "light"
     },
     "output_type": "display_data"
    }
   ],
   "source": [
    "#Function is x^3\n",
    "def f(x):\n",
    "    v=x**3\n",
    "    return v\n",
    "#Derivative of function, here analytically\n",
    "def f_deriv(x):\n",
    "    dv=3*x**2\n",
    "    return dv\n",
    "\n",
    "#Array to save iteration results\n",
    "x_N1=np.zeros(20)\n",
    "\n",
    "#Initial guess\n",
    "x_N1[0]=1.\n",
    "\n",
    "#Newton method with 20 iterations\n",
    "for i in np.arange(1,20):\n",
    "    x_N1[i]=x_N1[i-1]-f(x_N1[i-1])/f_deriv(x_N1[i-1])\n",
    "    \n",
    "#Plotting solution; analytic  root should be 0    \n",
    "plt.plot(x_N1)"
   ]
  },
  {
   "cell_type": "markdown",
   "metadata": {},
   "source": [
    "<font size=\"4\">In this case, convergence is relatively slow. One can observe a saddle point of the function at the root $0$ which causes the slower convergence. Shown below is the error with respect to the analytical solution for each iteration.</font>"
   ]
  },
  {
   "cell_type": "code",
   "execution_count": 79,
   "metadata": {},
   "outputs": [
    {
     "name": "stdout",
     "output_type": "stream",
     "text": [
      "1.0000000000000000000000000000000000000000000000000000\n",
      "0.6666666666666667406815349750104360282421112060546875\n",
      "0.4444444444444444752839729062543483451008796691894531\n",
      "0.2962962962962962798485477833310142159461975097656250\n",
      "0.1975308641975308532323651888873428106307983398437500\n",
      "0.1316872427983539206586272030108375474810600280761719\n",
      "0.0877914951989026137724181353405583649873733520507812\n",
      "0.0585276634659350758482787568937055766582489013671875\n",
      "0.0390184423106233815858878699600609252229332923889160\n",
      "0.0260122948737489187442939453376311575993895530700684\n",
      "0.0173415299158326124961959635584207717329263687133789\n",
      "0.0115610199438884089090384676978828792925924062728882\n",
      "0.0077073466292589395618128911280564352637156844139099\n",
      "0.0051382310861726263745419274187042901758104562759399\n",
      "0.0034254873907817512054818642752707091858610510826111\n",
      "0.0022836582605211671812006635207126237219199538230896\n",
      "0.0015224388403474444983465296843405667459592223167419\n",
      "0.0010149592268982963322310197895603778306394815444946\n",
      "0.0006766394845988642214873465263735852204263210296631\n",
      "0.0004510929897325761115181586013989090133691206574440\n"
     ]
    }
   ],
   "source": [
    "#Plotting of iterations\n",
    "for i in np.arange(0,20):\n",
    "    print('%.52f' % np.abs(x_N1[i]-0))"
   ]
  },
  {
   "cell_type": "markdown",
   "metadata": {},
   "source": [
    "<font size=\"4\">Next, we try the function $x^3-2$. We use both bisection method and Newton method. Initial interval is $[-2,2]$ and initial guess for Newton method is 2. Analytic solution is $2^{1/3}$.</font>"
   ]
  },
  {
   "cell_type": "code",
   "execution_count": 80,
   "metadata": {},
   "outputs": [
    {
     "data": {
      "text/plain": [
       "[<matplotlib.lines.Line2D at 0x7fe278b8dd90>]"
      ]
     },
     "execution_count": 80,
     "metadata": {},
     "output_type": "execute_result"
    },
    {
     "data": {
      "image/png": "[encoded data removed]",
      "text/plain": [
       "<Figure size 432x288 with 1 Axes>"
      ]
     },
     "metadata": {
      "needs_background": "light"
     },
     "output_type": "display_data"
    }
   ],
   "source": [
    "#Function is x^3-2\n",
    "def f(x):\n",
    "    v=x**3-2\n",
    "    return v\n",
    "#Derivative of function, here analytically\n",
    "def f_deriv(x):\n",
    "    dv=3*x**2\n",
    "    return dv\n",
    "\n",
    "#Array to save iteration results\n",
    "x_B=np.zeros(20)\n",
    "\n",
    "#Endpoints of initial interval for bisection method. \n",
    "x_B[0]=-2.\n",
    "x_B[1]=2.\n",
    "a=-2.\n",
    "b=2.\n",
    "\n",
    "#Bisection method; One needs to first check that it works (i.e. sign change).\n",
    "if(f(a)*f(b)<0):\n",
    "    for i in np.arange(2,20):\n",
    "        #Bisect\n",
    "        x_B[i]=(b+a)/2.\n",
    "        #Pick the right half of the interval, so that a sign change occurs\n",
    "        if (f(x_B[i]))*(f(a))<0:\n",
    "            b=x_B[i]\n",
    "        else:\n",
    "            a=x_B[i]\n",
    "        #Break off, if we found the solution; in practice, a sufficiently close solution would also work\n",
    "        #e.g., np.abs(f(x_B[i]))<10**-7 or something like that\n",
    "        #or the difference between two new iterations is very small, \n",
    "        #i.e. the update from one iteration to the next is smaller than some threshold\n",
    "        if (f(x_B[i]))==0:\n",
    "            print('Found root')\n",
    "            break\n",
    "else:\n",
    "    print('No sign change; bisection does not work!')\n",
    "    \n",
    "#Netwon method; same as before:\n",
    "x_N=np.zeros(20)\n",
    "x_N[0]=2.\n",
    "for i in np.arange(1,20):\n",
    "    x_N[i]=x_N[i-1]-(f(x_N[i-1]))/(f_deriv(x_N[i-1]))\n",
    "\n",
    "#Plotting iterations for both methods (orange: Newton, blue: bisection)\n",
    "plt.plot(x_B)\n",
    "plt.plot(x_N)"
   ]
  },
  {
   "cell_type": "markdown",
   "metadata": {},
   "source": [
    "<font size=\"4\">Error of bisection method for each iteration. One can see a linear reduction of error. Sometimes error gets larger again, as the selection of the interval changes (left or right part of bisected interval).</font>"
   ]
  },
  {
   "cell_type": "code",
   "execution_count": 81,
   "metadata": {},
   "outputs": [
    {
     "name": "stdout",
     "output_type": "stream",
     "text": [
      "3.2599210498948734127111492853146046400070190429687500\n",
      "0.7400789501051268093334556397167034447193145751953125\n",
      "1.2599210498948731906665443602832965552806854248046875\n",
      "0.2599210498948731906665443602832965552806854248046875\n",
      "0.2400789501051268093334556397167034447193145751953125\n",
      "0.0099210498948731906665443602832965552806854248046875\n",
      "0.1150789501051268093334556397167034447193145751953125\n",
      "0.0525789501051268093334556397167034447193145751953125\n",
      "0.0213289501051268093334556397167034447193145751953125\n",
      "0.0057039501051268093334556397167034447193145751953125\n",
      "0.0021085498948731906665443602832965552806854248046875\n",
      "0.0017977001051268093334556397167034447193145751953125\n",
      "0.0001554248948731906665443602832965552806854248046875\n",
      "0.0008211376051268093334556397167034447193145751953125\n",
      "0.0003328563551268093334556397167034447193145751953125\n",
      "0.0000887157301268093334556397167034447193145751953125\n",
      "0.0000333545823731906665443602832965552806854248046875\n",
      "0.0000276805738768093334556397167034447193145751953125\n",
      "0.0000028370042481906665443602832965552806854248046875\n",
      "0.0000124217848143093334556397167034447193145751953125\n"
     ]
    }
   ],
   "source": [
    "for i in np.arange(0,20):\n",
    "    print('%.52f' % np.abs(x_B[i]-x_true))"
   ]
  },
  {
   "cell_type": "markdown",
   "metadata": {},
   "source": [
    "<font size=\"4\">Error of Newton method for each iteration. One can see a quadratic reduction of error. As the error gets smaller, especially below $1$, the amount of correct digits suddenly increases drastically from one iteration to the next. We need only 7 iterations (excluding the initial guess) to reach machine precision.</font>"
   ]
  },
  {
   "cell_type": "code",
   "execution_count": 82,
   "metadata": {},
   "outputs": [
    {
     "name": "stdout",
     "output_type": "stream",
     "text": [
      "0.7400789501051268093334556397167034447193145751953125\n",
      "0.2400789501051268093334556397167034447193145751953125\n",
      "0.0363752464014230891820034230477176606655120849609375\n",
      "0.0010111748468752956853222713107243180274963378906250\n",
      "0.0000008106710529531824249716009944677352905273437500\n",
      "0.0000000000005215827769688985426910221576690673828125\n",
      "0.0000000000000000000000000000000000000000000000000000\n",
      "0.0000000000000000000000000000000000000000000000000000\n",
      "0.0000000000000000000000000000000000000000000000000000\n",
      "0.0000000000000000000000000000000000000000000000000000\n",
      "0.0000000000000000000000000000000000000000000000000000\n",
      "0.0000000000000000000000000000000000000000000000000000\n",
      "0.0000000000000000000000000000000000000000000000000000\n",
      "0.0000000000000000000000000000000000000000000000000000\n",
      "0.0000000000000000000000000000000000000000000000000000\n",
      "0.0000000000000000000000000000000000000000000000000000\n",
      "0.0000000000000000000000000000000000000000000000000000\n",
      "0.0000000000000000000000000000000000000000000000000000\n",
      "0.0000000000000000000000000000000000000000000000000000\n",
      "0.0000000000000000000000000000000000000000000000000000\n"
     ]
    }
   ],
   "source": [
    "for i in np.arange(0,20):\n",
    "    print('%.52f' % np.abs(x_N[i]-x_true))"
   ]
  },
  {
   "cell_type": "markdown",
   "metadata": {},
   "source": [
    "# Nonlinear solver, 2D-Newton method (can be extended to any higher dimension):\n",
    "<font size=\"4\">Application of the Newton Method to the function $f(x,y)=(x^2-64, x+y^3)^T$. One needs the Jacobian matrix (i.e. matrix of partial derivatives) for this. Here it is given analytically. <br>\n",
    "Similar as for the 1D case, it can also be estimated with central or other differencing schemes.<br>\n",
    "For Newton method to converge, we need to be 'sufficiently' close to the root of the nonlinear equation and the function needs to be sufficiently smooth (differentiable).<br>\n",
    "If it converges and certain conditions hold, the convergence is quadratic.</font>"
   ]
  },
  {
   "cell_type": "code",
   "execution_count": 83,
   "metadata": {},
   "outputs": [
    {
     "name": "stdout",
     "output_type": "stream",
     "text": [
      "('Solution estimate is ', array([ 8., -2.]), ' after ', 8, ' iterations ')\n"
     ]
    }
   ],
   "source": [
    "#Function (x^2-64, x+y^3)\n",
    "def f(x):\n",
    "    v=[x[0]**2-64.,x[0]+x[1]**3]\n",
    "    return v\n",
    "#Derivative of function, here analytically\n",
    "def f_deriv(x):\n",
    "    dv=[[2*x[0], 0],[1,3.*x[1]**2]]\n",
    "    return dv\n",
    "#Starting point and iteration\n",
    "x=np.array([1.,-2.])\n",
    "x_o=np.array([0.,0.])\n",
    "i=1\n",
    "\n",
    "#Do Newton iteration until the difference between successive steps is <=10^-4\n",
    "while (np.linalg.norm(x-x_o)>10**-4):\n",
    "    x_o=x\n",
    "    fu=f(x)\n",
    "    dfu=f_deriv(x)\n",
    "    in_dfu=np.linalg.inv(dfu)\n",
    "    x=x-in_dfu.dot(fu)\n",
    "    i+=1\n",
    "print('Solution estimate is ', x, ' after ', i, ' iterations ' )"
   ]
  }
 ],
 "metadata": {
  "kernelspec": {
   "display_name": "Python [conda env:Anaconda-Python2.7]",
   "language": "python",
   "name": "conda-env-Anaconda-Python2.7-py"
  },
  "language_info": {
   "codemirror_mode": {
    "name": "ipython",
    "version": 2
   },
   "file_extension": ".py",
   "mimetype": "text/x-python",
   "name": "python",
   "nbconvert_exporter": "python",
   "pygments_lexer": "ipython2",
   "version": "2.7.16"
  }
 },
 "nbformat": 4,
 "nbformat_minor": 4
}
