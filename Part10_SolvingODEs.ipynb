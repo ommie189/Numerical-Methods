{
 "cells": [
  {
   "cell_type": "code",
   "execution_count": 1,
   "metadata": {},
   "outputs": [],
   "source": [
    "import numpy as np\n",
    "import matplotlib.pyplot as plt\n",
    "import copy"
   ]
  },
  {
   "cell_type": "markdown",
   "metadata": {},
   "source": [
    "# Solving ODEs:\n",
    "<font size=\"4\">Demonstration of stability/instability of different timestepping (single-step) schemes for ODEs.<br>\n",
    "Here a simple damped system is used $y'=ay$ with $a=-2$ (which can be adjusted); similar results hold for more complicated ODEs.<br>\n",
    "Explicit schemes have certain conditions on stability for these types of equations and in general.<br>\n",
    "Implicit schemes are unconditionally stable for this equation and also in general more stable, but one needs to invert part of the equation to carry out timestepping.<br>\n",
    "The order of convergence is important if the scheme is stable. RK4 is has the highest convergence (fourth order). If the timestep $h$ is sufficiently small, it will outperform all of the other methods used below.</font>"
   ]
  },
  {
   "cell_type": "code",
   "execution_count": 61,
   "metadata": {},
   "outputs": [],
   "source": [
    "f = lambda t, u, a: a*u # ODE\n",
    "\n",
    "# Step size; try different values here\n",
    "h = 0.2 # 0.1, 0.5, 1.0, 1.2, 2.\n",
    "\n",
    "#coefficient of y'=ay; you can also use different values here\n",
    "#if a<0, the solution is exponential decay, if a>0 it is exponential growth\n",
    "a = -2 \n",
    "\n",
    "t = np.arange(0, 10 + h, h) # Numerical grid, \n",
    "#i.e. discrete times of integration\n",
    "\n",
    "u0 = 1 # Initial Condition\n",
    "\n",
    "#Explicit Euler (first order)\n",
    "u = np.zeros(len(t))\n",
    "u[0] = u0\n",
    "\n",
    "for i in range(0, len(t) - 1):\n",
    "    u[i + 1] = u[i] + h*f(t[i], u[i],a)\n",
    "    \n",
    "#Implicit Euler (first order)\n",
    "ui = np.zeros(len(t))\n",
    "ui[0] = u0\n",
    "\n",
    "for i in range(0, len(t) - 1):\n",
    "    ui[i + 1] = 1/(1-h*a)*ui[i]\n",
    "    \n",
    "    \n",
    "#Heun (explicit, second order)\n",
    "uh = np.zeros(len(t))\n",
    "uh[0] = u0\n",
    "\n",
    "for i in range(0, len(t) - 1):\n",
    "    uh[i + 1] = uh[i] + h/2*(f(t[i],uh[i],a)+f(t[i+1],uh[i]+h*f(t[i],uh[i],a),a))\n",
    "    \n",
    "#Crank-Nicolson (implicit, second order)\n",
    "uc = np.zeros(len(t))\n",
    "uc[0] = u0\n",
    "for i in range(0, len(t) - 1):\n",
    "    uc[i + 1] = 1/(1-h*a/2)*(uc[i] + h/2*(f(t[i],uc[i],a)))\n",
    "    \n",
    "    \n",
    "#Runge-Kutta 4th order (explicit, fourth order)\n",
    "uk = np.zeros(len(t))\n",
    "uk[0] = u0\n",
    "\n",
    "for i in range(0, len(t) - 1):\n",
    "    K1=f(t[i],uk[i],a)\n",
    "    K2=f(t[i]+h/2, uk[i]+h/2*K1,a)\n",
    "    K3=f(t[i]+h/2, uk[i]+h/2*K2,a) \n",
    "    K4=f(t[i]+h, uk[i]+h*K3,a)\n",
    "    uk[i + 1] = uk[i] + h*(K1/6+K2/3+K3/3+K4/6)"
   ]
  },
  {
   "cell_type": "code",
   "execution_count": 62,
   "metadata": {},
   "outputs": [
    {
     "data": {
      "image/png": "[encoded data removed]",
      "text/plain": [
       "<Figure size 360x360 with 1 Axes>"
      ]
     },
     "metadata": {
      "needs_background": "light"
     },
     "output_type": "display_data"
    }
   ],
   "source": [
    "plt.figure(figsize = (5, 5))\n",
    "#Plotting of approximate solutions of the different methods\n",
    "plt.plot(t, u, 'bo--', label='Approximate FE')\n",
    "plt.plot(t, ui, 'bo-', label='Approximate BE')\n",
    "plt.plot(t, uh, 'ko-.', label='Approximate HE')\n",
    "plt.plot(t, uc, 'ko-', label='Approximate CN')\n",
    "plt.plot(t, uk, 'go--', label='Approximate RK')\n",
    "\n",
    "#Plotting of exact solution (e^(at))\n",
    "t2=np.arange(0, 10 + 0.1, 0.1)\n",
    "plt.plot(t2, np.exp(a*t2), 'g', label='Exact')\n",
    "\n",
    "#Labels\n",
    "plt.title('Approximate' + '\\n'+\n",
    "'and Exact Solution for Simple ODE')\n",
    "plt.xlabel('t')\n",
    "plt.ylabel('y')\n",
    "plt.grid()\n",
    "plt.legend(loc='lower right')\n",
    "plt.show()"
   ]
  }
 ],
 "metadata": {
  "kernelspec": {
   "display_name": "Python [conda env:Anaconda-Python2.7]",
   "language": "python",
   "name": "conda-env-Anaconda-Python2.7-py"
  },
  "language_info": {
   "codemirror_mode": {
    "name": "ipython",
    "version": 2
   },
   "file_extension": ".py",
   "mimetype": "text/x-python",
   "name": "python",
   "nbconvert_exporter": "python",
   "pygments_lexer": "ipython2",
   "version": "2.7.16"
  }
 },
 "nbformat": 4,
 "nbformat_minor": 4
}
