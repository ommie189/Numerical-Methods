{
 "cells": [
  {
   "cell_type": "code",
   "execution_count": 1,
   "metadata": {},
   "outputs": [],
   "source": [
    "import numpy as np\n",
    "import matplotlib.pyplot as plt\n",
    "import copy"
   ]
  },
  {
   "cell_type": "markdown",
   "metadata": {},
   "source": [
    "# Solver linear equations:\n",
    "\n",
    "<font size=\"4\">Tridiagonal solver (Thomas algorithm); input has to be a tridiagonal square matrix and a solution vector. If the matrix is singular (i.e. determinant = 0), the algorithm will break (division by zero). <br>\n",
    "The algorithm is not generally stable (i.e. does not magnify small errors in the original matrix via, for example, rounding errors), but it is stable in special cases such as diagonally dominant matrices or symmetric positive definite matrices. In practice, one of the two is often the case.</font>"
   ]
  },
  {
   "cell_type": "code",
   "execution_count": 2,
   "metadata": {},
   "outputs": [],
   "source": [
    "#Function for solving tridiagonal matrix problem\n",
    "def tridiag(B, z):\n",
    "    s=np.shape(B)\n",
    "    x=np.zeros(len(z)) \n",
    "    A=copy.deepcopy(B)\n",
    "    y=copy.deepcopy(z)\n",
    "    if s[0]==s[1]:\n",
    "        n=s[0]-1\n",
    "        for i in range(1, n+1):\n",
    "            #print i\n",
    "            w=A[i,i-1]/A[i-1,i-1]\n",
    "            A[i,i]=A[i,i]-w*A[i-1,i]\n",
    "            y[i]=y[i]-w*y[i-1]\n",
    "        x[n]=y[n]/A[n,n]\n",
    "        for i in range(n,0,-1):\n",
    "            j=i-1\n",
    "            x[j]=(y[j]-A[j,j+1]*x[j+1])/A[j,j]\n",
    "    else:\n",
    "        print('Not a square matrix')\n",
    "    return x\n"
   ]
  },
  {
   "cell_type": "markdown",
   "metadata": {},
   "source": [
    "<font size=\"4\"> We first check if potential conditions for termination of the algorithm hold. This step might be as costly as or even more costly than the algorithm itself, which is why one wouldn't do this in general. In many practical cases, there might be indications prior to using the algorithm that the conditions hold. Sometimes, one just simply applies the algorithm without checking at all and just checks if it fails. Below, we first apply the checks and then apply the algorithm.</font>"
   ]
  },
  {
   "cell_type": "code",
   "execution_count": 3,
   "metadata": {},
   "outputs": [
    {
     "name": "stdout",
     "output_type": "stream",
     "text": [
      "('Matrix is pos. def. ', True)\n",
      "('Matrix is symmetric ', True)\n",
      "('Matrix is diagonally dominant ', True)\n",
      "('Solution vector of the problem is ', array([ 0.75, -0.5 ,  2.75]))\n"
     ]
    }
   ],
   "source": [
    "#Matrix A and right-hand side y of Ax=y\n",
    "A=np.array([[2.,1., 0.],[1.,3., 1.], [0.,1.,2.]])\n",
    "y=np.array([1.,2.,5.])\n",
    "\n",
    "#Check for positive definiteness and symmetry\n",
    "print('Matrix is pos. def. ', np.all(np.linalg.eigvals(A) > 0))\n",
    "At=np.matrix.transpose(A)\n",
    "print('Matrix is symmetric ',np.all(A==At))\n",
    "\n",
    "#Check for diagonal dominance\n",
    "diag = np.diag(np.abs(A)) # Absolute value of diagonal coefficients\n",
    "rowsum = np.sum(np.abs(A), axis=1) - diag # Row sum without diagonal element\n",
    "print('Matrix is diagonally dominant ',np.all(diag>rowsum))\n",
    "\n",
    "\n",
    "x=tridiag(A,y)\n",
    "print('Solution vector of the problem is ', x)"
   ]
  },
  {
   "cell_type": "markdown",
   "metadata": {},
   "source": [
    "# Cholesky decomposition:\n",
    "\n",
    "<font size=\"4\">Cholesky decomposition of an input matrix A, which must be positive definite and symmetric. It returns the lower triangular matrix L. The upper one is given by the transpose of L. </font>"
   ]
  },
  {
   "cell_type": "code",
   "execution_count": 4,
   "metadata": {},
   "outputs": [],
   "source": [
    "from math import sqrt\n",
    "from pprint import pprint\n",
    " \n",
    "def cholesky(A):\n",
    "    \"\"\"Performs a Cholesky decomposition of A, which must \n",
    "    be a symmetric and positive definite matrix. The function\n",
    "    returns the lower variant triangular matrix, L.\"\"\"\n",
    "    n = len(A)\n",
    "\n",
    "    # Create zero matrix for L\n",
    "    L = np.zeros([n,n])\n",
    "\n",
    "    # Perform the Cholesky decomposition\n",
    "    for i in range(0,n):\n",
    "        for k in range(0,i+1):\n",
    "            tmp = sum(L[i,:] * L[k,:])\n",
    "            \n",
    "            if (i == k): # Diagonal elements\n",
    "                L[i,k] = sqrt(A[i,i] - tmp)\n",
    "            else:\n",
    "                L[i,k] = (1.0 / L[k,k] * (A[i,k] - tmp))\n",
    "    return L"
   ]
  },
  {
   "cell_type": "markdown",
   "metadata": {},
   "source": [
    "<font size=\"4\">We apply the Cholsky decomposition to the same matrix A as before for the Thomas algorithm. For solving an actual system of Ax=y one now only needs to do substitution with the matrix L and its transpose to find x. </font>"
   ]
  },
  {
   "cell_type": "code",
   "execution_count": 5,
   "metadata": {},
   "outputs": [
    {
     "name": "stdout",
     "output_type": "stream",
     "text": [
      "Lower triangular matrix of Cholesky decomposition \n",
      "[[1.41421356 0.         0.        ]\n",
      " [0.70710678 1.58113883 0.        ]\n",
      " [0.         0.63245553 1.26491106]]\n",
      "Reconstruction of original matrix by LL^t\n",
      "[[2. 1. 0.]\n",
      " [1. 3. 1.]\n",
      " [0. 1. 2.]]\n"
     ]
    }
   ],
   "source": [
    "L=cholesky(A)\n",
    "print('Lower triangular matrix of Cholesky decomposition ')\n",
    "print(L)\n",
    "K=L.dot( L.transpose())\n",
    "print('Reconstruction of original matrix by LL^t')\n",
    "print(K)"
   ]
  }
 ],
 "metadata": {
  "kernelspec": {
   "display_name": "Python [conda env:Anaconda-Python2.7]",
   "language": "python",
   "name": "conda-env-Anaconda-Python2.7-py"
  },
  "language_info": {
   "codemirror_mode": {
    "name": "ipython",
    "version": 2
   },
   "file_extension": ".py",
   "mimetype": "text/x-python",
   "name": "python",
   "nbconvert_exporter": "python",
   "pygments_lexer": "ipython2",
   "version": "2.7.16"
  }
 },
 "nbformat": 4,
 "nbformat_minor": 4
}
