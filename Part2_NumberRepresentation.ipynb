{
 "cells": [
  {
   "cell_type": "code",
   "execution_count": 9,
   "metadata": {},
   "outputs": [],
   "source": [
    "import numpy as np\n",
    "import matplotlib.pyplot as plt\n",
    "import copy"
   ]
  },
  {
   "cell_type": "markdown",
   "metadata": {},
   "source": [
    "# Number representations:\n",
    "\n",
    "<font size=\"4\">The order of operations and the respective number representation can lead to rounding errors and error propagation"
   ]
  },
  {
   "cell_type": "markdown",
   "metadata": {},
   "source": [
    "<font size=\"5\">Example 1:</font>\n",
    "\n",
    "<font size=\"4\">Order of operations matters; on computers addition/subtraction is not associative. Here, addition of small number b to large number a is causing the issue. </font>"
   ]
  },
  {
   "cell_type": "code",
   "execution_count": 6,
   "metadata": {},
   "outputs": [
    {
     "name": "stdout",
     "output_type": "stream",
     "text": [
      "('Solution 1 is ', 0.0, ' and Solution 2 is ', 0.009999999999999997)\n"
     ]
    }
   ],
   "source": [
    "a=10**7\n",
    "b=10**(-20)\n",
    "c=(a+b-a)**(1/10.0)\n",
    "d=(a-a+b)**(1/10.0)\n",
    "print('Solution 1 is ', c,' and Solution 2 is ', d)"
   ]
  },
  {
   "cell_type": "markdown",
   "metadata": {},
   "source": [
    "<font size=\"5\">Example 2:</font>\n",
    "\n",
    "<font size=\"4\">Subtraction of values of similar size also leads to loss of precision (with double precision often quite difficult, as there may actually be extra digits available for certain computations). But it still becomes obvious for x=1/150000000 in the example.<br>\n",
    "Alternative here: Use approximation of sine by Taylor expansion for angles close to zero and you actually get a better answer, because first terms of Taylor expansion are accurate enough and we work with numbers of not too similar and not too different sizes in the expansion.</font>"
   ]
  },
  {
   "cell_type": "code",
   "execution_count": 7,
   "metadata": {},
   "outputs": [
    {
     "name": "stdout",
     "output_type": "stream",
     "text": [
      "0.000000006666666666666666806150405534189817835510893928585574030876159667968750000000000000\n",
      "0.000000006666666666666666806150405534189817835510893928585574030876159667968750000000000000\n",
      "0.000000000000000000000000000000000000000000000000000000000000000000000000000000000000000000\n"
     ]
    }
   ],
   "source": [
    "import math\n",
    "\n",
    "#Try also removing some zeros below\n",
    "x=1/150000000. \n",
    "y=math.sin(x)\n",
    "z=(x-y)\n",
    "print('%.90f' % x)\n",
    "print('%.90f' % y)\n",
    "print('%.90f' % z)"
   ]
  },
  {
   "cell_type": "code",
   "execution_count": 10,
   "metadata": {},
   "outputs": [
    {
     "name": "stdout",
     "output_type": "stream",
     "text": [
      "0.000000000000000000000000049382716049382722698032335288340181891714993182513789445547602556\n"
     ]
    }
   ],
   "source": [
    "#If we use the Taylor series approximation of x-sin(x) for x close to 0; we can get even better by adding more terms\n",
    "z=x-x+x**3/np.math.factorial(3)-x**5/np.math.factorial(5)+x**7/np.math.factorial(7)\n",
    "print('%.90f' % z)"
   ]
  }
 ],
 "metadata": {
  "kernelspec": {
   "display_name": "Python [conda env:Anaconda-Python2.7]",
   "language": "python",
   "name": "conda-env-Anaconda-Python2.7-py"
  },
  "language_info": {
   "codemirror_mode": {
    "name": "ipython",
    "version": 2
   },
   "file_extension": ".py",
   "mimetype": "text/x-python",
   "name": "python",
   "nbconvert_exporter": "python",
   "pygments_lexer": "ipython2",
   "version": "2.7.16"
  }
 },
 "nbformat": 4,
 "nbformat_minor": 4
}
