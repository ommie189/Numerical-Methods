{
 "cells": [
  {
   "cell_type": "code",
   "execution_count": 1,
   "metadata": {},
   "outputs": [],
   "source": [
    "import numpy as np\n",
    "import matplotlib.pyplot as plt\n",
    "import copy"
   ]
  },
  {
   "cell_type": "markdown",
   "metadata": {},
   "source": [
    "# Eigenvectors and eigenvalues of matrices (assuming real numbers here):\n",
    "\n",
    "<font size=\"4\">Eigenvectors give the direction of change (they are normalized to length 1). <br>\n",
    "Eigenvalues give the amplitude of change in that direction. </font> "
   ]
  },
  {
   "cell_type": "code",
   "execution_count": 2,
   "metadata": {},
   "outputs": [
    {
     "name": "stdout",
     "output_type": "stream",
     "text": [
      "Eigenvalues are\n",
      "[3.5 0.5]\n",
      "Eigenvectors are\n",
      "[[ 0.70710678 -0.70710678]\n",
      " [ 0.70710678  0.70710678]]\n"
     ]
    }
   ],
   "source": [
    "#Matrix\n",
    "C=np.array([[2,1.5],[1.5,2]])\n",
    "#Eigenvalues and eigenvectors of the matrix (all real in this case)\n",
    "e,v=np.linalg.eig(C)\n",
    "print('Eigenvalues are')\n",
    "print(e)\n",
    "print('Eigenvectors are')\n",
    "print(v)\n",
    "\n",
    "#Original vectors to be transformed by the matrix. They point to the edges of a rectangle around 0.\n",
    "x1=np.array([1,1])\n",
    "x2=np.array([-1,1])\n",
    "x3=np.array([1,-1])\n",
    "x4=np.array([-1,-1])\n",
    "\n",
    "#Transformed coordinates after application of matrix\n",
    "y1=C.dot(x1)\n",
    "y2=C.dot(x2)\n",
    "y3=C.dot(x3)\n",
    "y4=C.dot(x4)\n"
   ]
  },
  {
   "cell_type": "code",
   "execution_count": 4,
   "metadata": {},
   "outputs": [
    {
     "data": {
      "text/plain": [
       "<matplotlib.legend.Legend at 0x7fc077647410>"
      ]
     },
     "execution_count": 4,
     "metadata": {},
     "output_type": "execute_result"
    },
    {
     "data": {
      "image/png": "[encoded data removed]",
      "text/plain": [
       "<Figure size 432x288 with 1 Axes>"
      ]
     },
     "metadata": {
      "needs_background": "light"
     },
     "output_type": "display_data"
    }
   ],
   "source": [
    "#Plotting of the original square and the transformed points (connected via lines). \n",
    "#Also plotted are the two eigenvectors for which the labels give the eigenvalues\n",
    "plt.plot([x1[0],y1[0]],[x1[1],y1[1]], marker='*')\n",
    "plt.plot([x2[0],y2[0]],[x2[1],y2[1]], marker='*')\n",
    "plt.plot([x3[0],y3[0]],[x3[1],y3[1]], marker='*')\n",
    "plt.plot([x4[0],y4[0]],[x4[1],y4[1]], marker='*')\n",
    "plt.plot([-1,1,1,-1,-1], [1,1,-1,-1,1])\n",
    "plt.plot([0,v[0,0]],[0,v[1,0]], label='Eigenvector V1 with eigenvalue 3.5')\n",
    "plt.plot([0,v[0,1]],[0,v[1,1]], label='Eigenvector V2 with eigenvalue 0.5')\n",
    "plt.legend()"
   ]
  },
  {
   "cell_type": "markdown",
   "metadata": {},
   "source": [
    "# Iterative solvers for linear systems of equations:\n",
    "<font size=\"4\">They are of general form $x_{k+1}=(I-Q^{-1}A)x_k+Q^{-1}b$, where you have to choose an appropriate $Q$ that is easy to invert and close to the matrix A. <br>\n",
    "Jacobi: $Q$ is diagnonal matrix of $A$. <br>\n",
    "Gauss-Seidel: $Q$ is lower triangular part of $A$. <br>\n",
    "Successive over-relaxtion (SOR): Same as GS, but $Q$ is multiplied with a factor $1/w$ for the diagonal elements, where $0<w<2$. </font> "
   ]
  },
  {
   "cell_type": "code",
   "execution_count": 521,
   "metadata": {},
   "outputs": [
    {
     "name": "stdout",
     "output_type": "stream",
     "text": [
      "('Solution Jacobi ', array([ 1.9999746 ,  2.99999435, -1.0000254 ]), ' after ', 22, ' iterations')\n",
      "('Solution GS ', array([ 1.9999619,  2.9999746, -1.0000127]), ' after ', 10, ' iterations')\n",
      "('Solution SOR ', array([ 2.00000705,  3.00000339, -0.99999909]), ' after ', 8, ' iterations')\n"
     ]
    }
   ],
   "source": [
    "#Matrix\n",
    "A=np.array([[2., -1., 0.], [-1., 3., -1.],[0., -1., 2.]])\n",
    "\n",
    "#Jacobi; inverse of diagonal matrix\n",
    "Q1=np.diag(1/np.diag(A))\n",
    "\n",
    "#Gauss-Seidel; inverse of lower triangular matrix\n",
    "tmp=np.tril(A)\n",
    "Q2=np.linalg.inv(tmp)\n",
    "\n",
    "#SOR; inverse of lower triangular matrix of A, \n",
    "#where diagonal elements have been multiplied by 1/w, w=1.1 here\n",
    "w=1.1\n",
    "tmp=np.tril(A)-np.diag(np.diag(A))+(1/w)*np.diag(np.diag(A))\n",
    "Q3=np.linalg.inv(tmp)\n",
    "\n",
    "#First part (I-Q^(-1) A)\n",
    "It1=(np.identity(3)-np.matmul(Q1,A))\n",
    "It2=(np.identity(3)-np.matmul(Q2,A))\n",
    "It3=(np.identity(3)-np.matmul(Q3,A))\n",
    "\n",
    "#Starting point for iteration; starting error set to sqrt(3), \n",
    "#i.e. norm([0,0,0]-[1,1,1])\n",
    "x=np.array([0.,0.,0.])\n",
    "x_o=np.array([1.,1.,1.])\n",
    "\n",
    "#Result vector b\n",
    "b=np.array([1., 8., -5.])\n",
    "\n",
    "#Jacobi iteration\n",
    "i=1\n",
    "#iterate as long as successive iterations are changing by more than 10^-4\n",
    "while (np.linalg.norm(x-x_o)>10**-4):\n",
    "    x_o=x\n",
    "    x=It1.dot(x)+Q1.dot(b)\n",
    "    i+=1\n",
    "print('Solution Jacobi ', x, ' after ',i, ' iterations' )\n",
    "\n",
    "#Gauss-Seidel iteration\n",
    "x=np.array([0.,0.,0.])\n",
    "x_o=np.array([1.,1.,1.])\n",
    "i=1\n",
    "#iterate as long as successive iterations are changing by more than 10^-4\n",
    "while (np.linalg.norm(x-x_o)>10**-4):\n",
    "    x_o=x\n",
    "    x=It2.dot(x)+Q2.dot(b)\n",
    "    i+=1\n",
    "print('Solution GS ', x, ' after ',i, ' iterations' )\n",
    "\n",
    "#SOR iteration\n",
    "x=np.array([0.,0.,0.])\n",
    "x_o=np.array([1.,1.,1.])\n",
    "i=1\n",
    "#iterate as long as successive iterations are changing by more than 10^-4\n",
    "while (np.linalg.norm(x-x_o)>10**-4):\n",
    "    x_o=x\n",
    "    x=It3.dot(x)+Q3.dot(b)\n",
    "    i+=1\n",
    "print('Solution SOR ', x, ' after ',i, ' iterations' )"
   ]
  }
 ],
 "metadata": {
  "kernelspec": {
   "display_name": "Python [conda env:Anaconda-Python2.7]",
   "language": "python",
   "name": "conda-env-Anaconda-Python2.7-py"
  },
  "language_info": {
   "codemirror_mode": {
    "name": "ipython",
    "version": 2
   },
   "file_extension": ".py",
   "mimetype": "text/x-python",
   "name": "python",
   "nbconvert_exporter": "python",
   "pygments_lexer": "ipython2",
   "version": "2.7.16"
  }
 },
 "nbformat": 4,
 "nbformat_minor": 4
}
